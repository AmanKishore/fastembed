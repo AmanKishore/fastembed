{
 "cells": [
  {
   "attachments": {},
   "cell_type": "markdown",
   "metadata": {},
   "source": [
    "# Usage With Qdrant\n",
    "\n",
    "This notebook demonstrates how to use FastEmbed and Qdrant to perform vector search and retrieval. Qdrant is an open-source vector similarity search engine that is used to store, organize, and query collections of high-dimensional vectors. \n",
    "\n",
    "We will use the Qdrant to add a collection of documents to the engine and then query the collection to retrieve the most relevant documents.\n",
    "\n",
    "It consists of the following sections:\n",
    "\n",
    "1. Setup: Installing necessary packages, including the Qdrant Client and FastEmbed.\n",
    "2. Importing Libraries: Importing FastEmbed and other libraries\n",
    "3. Data Preparation: Example data and embedding generation\n",
    "4. Querying: Defining a function to search documents based on a query\n",
    "5. Running Queries: Running example queries\n",
    "\n",
    "## Setup\n",
    "\n",
    "First, we need to install the dependencies. `fastembed` to create embeddings and perform retrieval, and `qdrant-client` to interact with the Qdrant database."
   ]
  },
  {
   "cell_type": "code",
   "execution_count": 14,
   "metadata": {},
   "outputs": [],
   "source": [
    "# !pip install fastembed qdrant-client --quiet --upgrade"
   ]
  },
  {
   "cell_type": "markdown",
   "metadata": {},
   "source": [
    "Importing the necessary libraries:"
   ]
  },
  {
   "cell_type": "code",
   "execution_count": 15,
   "metadata": {},
   "outputs": [],
   "source": [
    "from typing import List\n",
    "import numpy as np\n",
    "from fastembed.embedding import FlagEmbedding as Embedding\n",
    "from qdrant_client import QdrantClient"
   ]
  },
  {
   "cell_type": "markdown",
   "metadata": {},
   "source": [
    "## Data Preparation\n",
    "We initialize the embedding model and generate embeddings for the documents.\n",
    "\n",
    "### 💡 Tip: Prefer using `query_embed` for queries and `passage_embed` for documents."
   ]
  },
  {
   "cell_type": "code",
   "execution_count": 16,
   "metadata": {},
   "outputs": [],
   "source": [
    "# Example list of documents\n",
    "documents: List[str] = [\n",
    "    \"Maharana Pratap was a Rajput warrior king from Mewar\",\n",
    "    \"He fought against the Mughal Empire led by Akbar\",\n",
    "    \"The Battle of Haldighati in 1576 was his most famous battle\",\n",
    "    \"He refused to submit to Akbar and continued guerrilla warfare\",\n",
    "    \"His capital was Chittorgarh, which he lost to the Mughals\",\n",
    "    \"He died in 1597 at the age of 57\",\n",
    "    \"Maharana Pratap is considered a symbol of Rajput resistance against foreign rule\",\n",
    "    \"His legacy is celebrated in Rajasthan through festivals and monuments\",\n",
    "    \"He had 11 wives and 17 sons, including Amar Singh I who succeeded him as ruler of Mewar\",\n",
    "    \"His life has been depicted in various films, TV shows, and books\",\n",
    "]"
   ]
  },
  {
   "cell_type": "markdown",
   "metadata": {},
   "source": [
    "This tutorial demonstrates how to utilize the QdrantClient to add documents to a collection and query the collection for relevant documents."
   ]
  },
  {
   "cell_type": "markdown",
   "metadata": {},
   "source": [
    "## ➕ Adding Documents\n",
    "\n",
    "The `add` creates a collection if it does not already exist. Now, we can add the documents to the collection:"
   ]
  },
  {
   "cell_type": "code",
   "execution_count": 17,
   "metadata": {},
   "outputs": [
    {
     "data": {
      "text/plain": [
       "['901ff9d7a90a4e56afe655d1de8e7c06',\n",
       " '7bae5aa894164398a9be68d47d72ff7a',\n",
       " 'd940bba124e24469ae3166c3110c62f8',\n",
       " 'c8dcf956a4f444c6bfe69a00cbeb85ce',\n",
       " 'd2aeb24c51f549c5b21851be05cb4048',\n",
       " '6d4c672bafef4db68ae72c8986ee8a72',\n",
       " 'ff198613768a4361a6d8230b40ee7f78',\n",
       " 'a133ad72876b48d48e716533c2d78cf0',\n",
       " 'bdf2b016136e4f57b7ac4b65534031b8',\n",
       " '5f4f279f304c47839e1a74b0f28de136']"
      ]
     },
     "execution_count": 17,
     "metadata": {},
     "output_type": "execute_result"
    }
   ],
   "source": [
    "client = QdrantClient(\":memory:\")\n",
    "client.add(collection_name=\"test_collection\", documents=documents)"
   ]
  },
  {
   "cell_type": "markdown",
   "metadata": {},
   "source": [
    "These are the ids of the documents we just added. We don't have a use for them in this tutorial, but they can be used to update or delete documents."
   ]
  },
  {
   "cell_type": "markdown",
   "metadata": {},
   "source": [
    "## 📝 Running Queries\n",
    "We'll define a function to print the top k documents based on a query, and prepare a sample query."
   ]
  },
  {
   "cell_type": "code",
   "execution_count": 18,
   "metadata": {},
   "outputs": [
    {
     "name": "stdout",
     "output_type": "stream",
     "text": [
      "Top 5 results:\n",
      "Rank 1: Maharana Pratap was a Rajput warrior king from Mewar. Score: 0.77\n",
      "Rank 2: Maharana Pratap is considered a symbol of Rajput resistance against foreign rule. Score: 0.77\n",
      "Rank 3: His legacy is celebrated in Rajasthan through festivals and monuments. Score: 0.69\n",
      "Rank 4: He had 11 wives and 17 sons, including Amar Singh I who succeeded him as ruler of Mewar. Score: 0.68\n",
      "Rank 5: He fought against the Mughal Empire led by Akbar. Score: 0.67\n"
     ]
    }
   ],
   "source": [
    "from qdrant_client.qdrant_fastembed import QueryResponse\n",
    "def print_top_k_results(results: List[QueryResponse], k: int = 5):\n",
    "    print(f\"Top {k} results:\")\n",
    "    for i, result in enumerate(results[:k]):\n",
    "        print(f\"Rank {i + 1}: {result.document}. Score: {result.score:.2f}\")\n",
    "\n",
    "query_text = \"Who is Maharana Pratap?\"\n",
    "results = client.query(collection_name=\"test_collection\", query_text=query_text, limit=7) # Returns limit most relevant documents\n",
    "\n",
    "print_top_k_results(results)"
   ]
  },
  {
   "cell_type": "markdown",
   "metadata": {},
   "source": [
    "## 🎬 Conclusion\n",
    "\n",
    "This tutorial demonstrates the basics of working with the QdrantClient to add and query documents. By following this guide, you can easily integrate Qdrant into your projects for vector similarity search and retrieval.\n",
    "\n",
    "Remember to properly handle the closing of the client connection and further customization of the query parameters according to your specific needs.\n",
    "\n",
    "The official Qdrant Python client documentation can be found [here](https://github.com/qdrant/qdrant-client) for more details on customization and advanced features."
   ]
  }
 ],
 "metadata": {
  "kernelspec": {
   "display_name": "fst",
   "language": "python",
   "name": "python3"
  },
  "language_info": {
   "codemirror_mode": {
    "name": "ipython",
    "version": 3
   },
   "file_extension": ".py",
   "mimetype": "text/x-python",
   "name": "python",
   "nbconvert_exporter": "python",
   "pygments_lexer": "ipython3",
   "version": "3.9.17"
  },
  "orig_nbformat": 4
 },
 "nbformat": 4,
 "nbformat_minor": 2
}
