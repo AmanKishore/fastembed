{
 "cells": [
  {
   "cell_type": "markdown",
   "metadata": {},
   "source": [
    "Step by Step:\n",
    "0. Replace for loop with parallel and use an iterable to yield from when working with batch size greater than 10\n",
    "1. Download the 1M Entities from HF Datasets\n",
    "2. Embed that -- profile how much time it took"
   ]
  }
 ],
 "metadata": {
  "language_info": {
   "name": "python"
  },
  "orig_nbformat": 4
 },
 "nbformat": 4,
 "nbformat_minor": 2
}
